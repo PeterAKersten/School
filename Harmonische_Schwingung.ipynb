{
 "cells": [
  {
   "cell_type": "markdown",
   "metadata": {
    "slideshow": {
     "slide_type": "slide"
    }
   },
   "source": [
    "# Schwingungen und Wellen\n",
    "\n",
    "[Peter Kersten](https://www.hshl.de/personen/prof-dr-ing-peter-kersten), Hochschule Hamm-Lippstadt  \n",
    "\n",
    "\n"
   ]
  },
  {
   "cell_type": "markdown",
   "metadata": {
    "slideshow": {
     "slide_type": "slide"
    }
   },
   "source": [
    "Eine grundlegende Schwingungsbewegung ist die harmonische Schwingung, die durch harmonische Funktionen wie Sinus- und Kosinusfunktionen beschrieben werden kann.\n",
    "\n",
    "$x(t)=A\\cdot cos(\\omega \\cdot t + \\delta)$\n",
    "\n",
    "Hierbei ist $x(t)$ die Auslenkung zum Zeitpunkt $t$, $A$ die maximale Auslenkung (Amplitude), $\\omega$ die Kreisfreqzuenz und $\\delta$ die Phasenkonstante."
   ]
  },
  {
   "cell_type": "code",
   "execution_count": 1,
   "metadata": {
    "slideshow": {
     "slide_type": "notes"
    }
   },
   "outputs": [],
   "source": [
    "%matplotlib inline\n",
    "import numpy as np\n",
    "import math as m\n",
    "import matplotlib.pyplot as plt\n",
    "import ipywidgets as widgets\n",
    "from ipywidgets import interact\n",
    "from matplotlib.pyplot import figure"
   ]
  },
  {
   "cell_type": "code",
   "execution_count": 2,
   "metadata": {},
   "outputs": [
    {
     "data": {
      "application/vnd.jupyter.widget-view+json": {
       "model_id": "3bcceff6e9c04c679a9a8bf2f8689d79",
       "version_major": 2,
       "version_minor": 0
      },
      "text/plain": [
       "interactive(children=(FloatSlider(value=1.0, description='A', max=4.0, step=0.5), FloatSlider(value=0.62831853…"
      ]
     },
     "metadata": {},
     "output_type": "display_data"
    },
    {
     "data": {
      "text/plain": [
       "<function __main__.x(A, omega, delta)>"
      ]
     },
     "execution_count": 2,
     "metadata": {},
     "output_type": "execute_result"
    }
   ],
   "source": [
    "plt.rcParams['figure.figsize'] = [10, 5]\n",
    "\n",
    "t = np.arange (0,10,0.01)\n",
    "\n",
    "def x(A,omega,delta):\n",
    "    \n",
    "    x = A*np.cos(omega*t+delta)\n",
    "    plt.plot(t,x,'b',lw=2)\n",
    "    plt.xlim(0, 10)\n",
    "    plt.ylim(-4, 4)\n",
    "    plt.xlabel('Zeit in s')\n",
    "    plt.ylabel('Amplitude in m')\n",
    "    plt.title('Harmonische Schwingung')\n",
    "    plt.grid()\n",
    "    \n",
    "    \n",
    "interact(x, A = widgets.FloatSlider(value=1, min=0, max=4, step=0.5), \n",
    "            omega = widgets.FloatSlider(value=2*m.pi/10, min=2*m.pi/10, max=2*m.pi, step=0.1),\n",
    "            delta = widgets.FloatSlider(value=0, min=0, max=2*m.pi, step=m.pi/4))"
   ]
  },
  {
   "cell_type": "code",
   "execution_count": null,
   "metadata": {},
   "outputs": [],
   "source": []
  },
  {
   "cell_type": "markdown",
   "metadata": {
    "slideshow": {
     "slide_type": "slide"
    }
   },
   "source": [
    "<img align=\"left\" src=\"https://licensebuttons.net/l/by-sa/3.0/88x31.png\">"
   ]
  }
 ],
 "metadata": {
  "celltoolbar": "Slideshow",
  "kernelspec": {
   "display_name": "Python 3",
   "language": "python",
   "name": "python3"
  },
  "language_info": {
   "codemirror_mode": {
    "name": "ipython",
    "version": 3
   },
   "file_extension": ".py",
   "mimetype": "text/x-python",
   "name": "python",
   "nbconvert_exporter": "python",
   "pygments_lexer": "ipython3",
   "version": "3.6.8"
  }
 },
 "nbformat": 4,
 "nbformat_minor": 2
}
